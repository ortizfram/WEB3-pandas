{
 "cells": [
  {
   "cell_type": "markdown",
   "id": "7b4f22ce",
   "metadata": {},
   "source": [
    "# What's Pandas ?"
   ]
  },
  {
   "cell_type": "markdown",
   "id": "4702feac",
   "metadata": {},
   "source": [
    "\"Panel Data\"\n",
    "\n",
    "library used for working with data sets.\n",
    "\n",
    "It has functions for analyzing, cleaning, exploring, and manipulating data.\n",
    "\n",
    "Pandas can clean messy data sets, and make them readable and relevant.\n",
    "\n",
    "Relevant data is very important in data science."
   ]
  },
  {
   "cell_type": "markdown",
   "id": "cd2c7d7e",
   "metadata": {},
   "source": [
    "#### -- installation"
   ]
  },
  {
   "cell_type": "markdown",
   "id": "22be4e1b",
   "metadata": {},
   "source": [
    "C:\\Users\\Your Name>pip install pandas"
   ]
  },
  {
   "cell_type": "markdown",
   "id": "8603fb72",
   "metadata": {},
   "source": [
    "# -- import / creation\n",
    "### pd.DataFrame(dataset)"
   ]
  },
  {
   "cell_type": "code",
   "execution_count": 4,
   "id": "9e75cd7a",
   "metadata": {},
   "outputs": [
    {
     "name": "stdout",
     "output_type": "stream",
     "text": [
      "    cars  passings\n",
      "0    BMW         3\n",
      "1  Volvo         7\n",
      "2   Ford         2\n"
     ]
    }
   ],
   "source": [
    "import pandas as pd\n",
    "\n",
    "mydataset = {\n",
    "  'cars': [\"BMW\", \"Volvo\", \"Ford\"],\n",
    "  'passings': [3, 7, 2]\n",
    "}\n",
    "\n",
    "myvar = pd.DataFrame(mydataset)\n",
    "\n",
    "print(myvar)\n"
   ]
  },
  {
   "cell_type": "markdown",
   "id": "7ddacb1e",
   "metadata": {},
   "source": [
    "# What is a Series?\n",
    "A Pandas Series is like a column in a table.\n",
    "\n",
    "It is a one-dimensional array holding data of any type."
   ]
  },
  {
   "cell_type": "markdown",
   "id": "9224bfac",
   "metadata": {},
   "source": [
    "# -- create Pandas Series from list\n",
    "### pd.Series()"
   ]
  },
  {
   "cell_type": "code",
   "execution_count": 5,
   "id": "75c4f03e",
   "metadata": {},
   "outputs": [
    {
     "name": "stdout",
     "output_type": "stream",
     "text": [
      "0    1\n",
      "1    7\n",
      "2    2\n",
      "dtype: int64\n"
     ]
    }
   ],
   "source": [
    "import pandas as pd\n",
    "\n",
    "a = [1, 7, 2]\n",
    "\n",
    "myvar = pd.Series(a)\n",
    "\n",
    "print(myvar)"
   ]
  },
  {
   "cell_type": "markdown",
   "id": "92d04dc0",
   "metadata": {},
   "source": [
    "# + return Value of Series"
   ]
  },
  {
   "cell_type": "code",
   "execution_count": 6,
   "id": "0fedc896",
   "metadata": {},
   "outputs": [
    {
     "data": {
      "text/plain": [
       "7"
      ]
     },
     "execution_count": 6,
     "metadata": {},
     "output_type": "execute_result"
    }
   ],
   "source": [
    "myvar[1]"
   ]
  },
  {
   "cell_type": "code",
   "execution_count": null,
   "id": "0282c4b7",
   "metadata": {},
   "outputs": [],
   "source": []
  }
 ],
 "metadata": {
  "kernelspec": {
   "display_name": "Python 3 (ipykernel)",
   "language": "python",
   "name": "python3"
  },
  "language_info": {
   "codemirror_mode": {
    "name": "ipython",
    "version": 3
   },
   "file_extension": ".py",
   "mimetype": "text/x-python",
   "name": "python",
   "nbconvert_exporter": "python",
   "pygments_lexer": "ipython3",
   "version": "3.9.12"
  }
 },
 "nbformat": 4,
 "nbformat_minor": 5
}
