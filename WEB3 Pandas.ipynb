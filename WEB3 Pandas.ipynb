{
 "cells": [
  {
   "cell_type": "markdown",
   "id": "07805c92",
   "metadata": {},
   "source": [
    "# What's Pandas ?"
   ]
  },
  {
   "cell_type": "markdown",
   "id": "189df8ae",
   "metadata": {},
   "source": [
    "\"Panel Data\"\n",
    "\n",
    "library used for working with data sets.\n",
    "\n",
    "It has functions for analyzing, cleaning, exploring, and manipulating data.\n",
    "\n",
    "Pandas can clean messy data sets, and make them readable and relevant.\n",
    "\n",
    "Relevant data is very important in data science."
   ]
  },
  {
   "cell_type": "markdown",
   "id": "e5c84f67",
   "metadata": {},
   "source": [
    "#### -- installation"
   ]
  },
  {
   "cell_type": "markdown",
   "id": "e80121eb",
   "metadata": {},
   "source": [
    "C:\\Users\\Your Name>pip install pandas"
   ]
  },
  {
   "cell_type": "markdown",
   "id": "1e7e2aa1",
   "metadata": {},
   "source": [
    "# -- import / creation\n",
    "### pd.DataFrame(dataset)"
   ]
  },
  {
   "cell_type": "code",
   "execution_count": 2,
   "id": "512e9bb7",
   "metadata": {},
   "outputs": [
    {
     "name": "stdout",
     "output_type": "stream",
     "text": [
      "    cars  passings\n",
      "0    BMW         3\n",
      "1  Volvo         7\n",
      "2   Ford         2\n"
     ]
    }
   ],
   "source": [
    "import pandas as pd\n",
    "\n",
    "mydataset = {\n",
    "  'cars': [\"BMW\", \"Volvo\", \"Ford\"],\n",
    "  'passings': [3, 7, 2]\n",
    "}\n",
    "\n",
    "myvar = pd.DataFrame(mydataset)\n",
    "\n",
    "print(myvar)\n"
   ]
  },
  {
   "cell_type": "code",
   "execution_count": null,
   "id": "c633bbd6",
   "metadata": {},
   "outputs": [],
   "source": []
  }
 ],
 "metadata": {
  "kernelspec": {
   "display_name": "Python 3 (ipykernel)",
   "language": "python",
   "name": "python3"
  },
  "language_info": {
   "codemirror_mode": {
    "name": "ipython",
    "version": 3
   },
   "file_extension": ".py",
   "mimetype": "text/x-python",
   "name": "python",
   "nbconvert_exporter": "python",
   "pygments_lexer": "ipython3",
   "version": "3.9.12"
  }
 },
 "nbformat": 4,
 "nbformat_minor": 5
}
