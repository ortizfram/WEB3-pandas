{
 "cells": [
  {
   "cell_type": "markdown",
   "id": "617554ec",
   "metadata": {},
   "source": [
    "# What's Pandas ?"
   ]
  },
  {
   "cell_type": "markdown",
   "id": "b4fb7956",
   "metadata": {},
   "source": [
    "\"Panel Data\"\n",
    "\n",
    "library used for working with data sets.\n",
    "\n",
    "It has functions for analyzing, cleaning, exploring, and manipulating data.\n",
    "\n",
    "Pandas can clean messy data sets, and make them readable and relevant.\n",
    "\n",
    "Relevant data is very important in data science."
   ]
  },
  {
   "cell_type": "markdown",
   "id": "237e9050",
   "metadata": {},
   "source": [
    "#### -- installation"
   ]
  },
  {
   "cell_type": "markdown",
   "id": "4e469b34",
   "metadata": {},
   "source": [
    "C:\\Users\\Your Name>pip install pandas"
   ]
  },
  {
   "cell_type": "markdown",
   "id": "3aaf2d2c",
   "metadata": {},
   "source": [
    "# -- import / creation\n",
    "### pd.DataFrame(dataset)"
   ]
  },
  {
   "cell_type": "code",
   "execution_count": 4,
   "id": "0d57fff9",
   "metadata": {},
   "outputs": [
    {
     "name": "stdout",
     "output_type": "stream",
     "text": [
      "    cars  passings\n",
      "0    BMW         3\n",
      "1  Volvo         7\n",
      "2   Ford         2\n"
     ]
    }
   ],
   "source": [
    "import pandas as pd\n",
    "\n",
    "mydataset = {\n",
    "  'cars': [\"BMW\", \"Volvo\", \"Ford\"],\n",
    "  'passings': [3, 7, 2]\n",
    "}\n",
    "\n",
    "myvar = pd.DataFrame(mydataset)\n",
    "\n",
    "print(myvar)\n"
   ]
  },
  {
   "cell_type": "markdown",
   "id": "acdf8704",
   "metadata": {},
   "source": [
    "# What is a Series?\n",
    "A Pandas Series is like a column in a table.\n",
    "\n",
    "It is a one-dimensional array holding data of any type."
   ]
  },
  {
   "cell_type": "markdown",
   "id": "2e1c1aa9",
   "metadata": {},
   "source": [
    "# -- create Pandas Series from list\n",
    "### pd.Series()"
   ]
  },
  {
   "cell_type": "code",
   "execution_count": 5,
   "id": "49d5b92c",
   "metadata": {},
   "outputs": [
    {
     "name": "stdout",
     "output_type": "stream",
     "text": [
      "0    1\n",
      "1    7\n",
      "2    2\n",
      "dtype: int64\n"
     ]
    }
   ],
   "source": [
    "import pandas as pd\n",
    "\n",
    "a = [1, 7, 2]\n",
    "\n",
    "myvar = pd.Series(a)\n",
    "\n",
    "print(myvar)"
   ]
  },
  {
   "cell_type": "markdown",
   "id": "6f9bd58f",
   "metadata": {},
   "source": [
    "# + Return Value of Series"
   ]
  },
  {
   "cell_type": "code",
   "execution_count": 6,
   "id": "45acd671",
   "metadata": {},
   "outputs": [
    {
     "data": {
      "text/plain": [
       "7"
      ]
     },
     "execution_count": 6,
     "metadata": {},
     "output_type": "execute_result"
    }
   ],
   "source": [
    "myvar[1]"
   ]
  },
  {
   "cell_type": "markdown",
   "id": "956e4db9",
   "metadata": {},
   "source": [
    "# + Labels\n",
    "### pd.Series(a, index = [\"x\", \"y\", \"z\"])\n",
    "then you can access an elemn\\ent by the label insted of the number"
   ]
  },
  {
   "cell_type": "code",
   "execution_count": 8,
   "id": "be2c1647",
   "metadata": {},
   "outputs": [
    {
     "name": "stdout",
     "output_type": "stream",
     "text": [
      "x    1\n",
      "y    7\n",
      "z    2\n",
      "dtype: int64\n"
     ]
    }
   ],
   "source": [
    "import pandas as pd\n",
    "\n",
    "a = [1, 7, 2]\n",
    "\n",
    "myvar = pd.Series(a, index = [\"x\", \"y\", \"z\"])\n",
    "\"\"\"instead of 0, 1, 2 \n",
    "would be x, y ,z\"\"\"\n",
    "\n",
    "print(myvar)"
   ]
  },
  {
   "cell_type": "markdown",
   "id": "81870e1c",
   "metadata": {},
   "source": [
    "# -- Key/Value Objects as Series DICTIONARY\n",
    "### pd.Series({\"x\":1})"
   ]
  },
  {
   "cell_type": "code",
   "execution_count": 9,
   "id": "16f501e8",
   "metadata": {},
   "outputs": [
    {
     "name": "stdout",
     "output_type": "stream",
     "text": [
      "day1    420\n",
      "day2    380\n",
      "day3    390\n",
      "dtype: int64\n"
     ]
    }
   ],
   "source": [
    "import pandas as pd\n",
    "\n",
    "calories = {\"day1\": 420, \"day2\": 380, \"day3\": 390}\n",
    "\n",
    "myvar = pd.Series(calories)\n",
    "\n",
    "print(myvar)"
   ]
  },
  {
   "cell_type": "code",
   "execution_count": 10,
   "id": "03a36fe5",
   "metadata": {},
   "outputs": [
    {
     "name": "stdout",
     "output_type": "stream",
     "text": [
      "day1    420\n",
      "day2    380\n",
      "dtype: int64\n"
     ]
    }
   ],
   "source": [
    "import pandas as pd\n",
    "\n",
    "calories = {\"day1\": 420, \"day2\": 380, \"day3\": 390}\n",
    "\n",
    "myvar = pd.Series(calories, index = [\"day1\", \"day2\"])\n",
    "\n",
    "print(myvar)"
   ]
  },
  {
   "cell_type": "markdown",
   "id": "986eacfd",
   "metadata": {},
   "source": [
    "# DataFrames ???"
   ]
  },
  {
   "cell_type": "markdown",
   "id": "d1a72de4",
   "metadata": {},
   "source": [
    "multi-dimensional tables, called DataFrames.\n",
    "\n",
    "Series is like a column, a DataFrame is the **whole table.**"
   ]
  },
  {
   "cell_type": "markdown",
   "id": "ebee418b",
   "metadata": {},
   "source": [
    "# -- Create DataFrame"
   ]
  },
  {
   "cell_type": "code",
   "execution_count": 12,
   "id": "d0f94bea",
   "metadata": {},
   "outputs": [
    {
     "name": "stdout",
     "output_type": "stream",
     "text": [
      "   calories  duration\n",
      "0       420        50\n",
      "1       380        40\n",
      "2       390        45\n"
     ]
    }
   ],
   "source": [
    "import pandas as pd\n",
    "\n",
    "data = {\n",
    "  \"calories\": [420, 380, 390],\n",
    "  \"duration\": [50, 40, 45]\n",
    "}\n",
    "\n",
    "myvar = pd.DataFrame(data)\n",
    "\n",
    "print(myvar)"
   ]
  },
  {
   "cell_type": "code",
   "execution_count": null,
   "id": "23f803c9",
   "metadata": {},
   "outputs": [],
   "source": []
  }
 ],
 "metadata": {
  "kernelspec": {
   "display_name": "Python 3 (ipykernel)",
   "language": "python",
   "name": "python3"
  },
  "language_info": {
   "codemirror_mode": {
    "name": "ipython",
    "version": 3
   },
   "file_extension": ".py",
   "mimetype": "text/x-python",
   "name": "python",
   "nbconvert_exporter": "python",
   "pygments_lexer": "ipython3",
   "version": "3.9.12"
  }
 },
 "nbformat": 4,
 "nbformat_minor": 5
}
